{
  "cells": [
    {
      "cell_type": "code",
      "execution_count": 1,
      "metadata": {
        "colab": {
          "base_uri": "https://localhost:8080/"
        },
        "id": "CO-J___L52Sz",
        "outputId": "ee6b2b56-8de2-41b0-ec1e-2b4157f705ae"
      },
      "outputs": [
        {
          "name": "stdout",
          "output_type": "stream",
          "text": [
            "Defaulting to user installation because normal site-packages is not writeableNote: you may need to restart the kernel to use updated packages.\n"
          ]
        },
        {
          "name": "stderr",
          "output_type": "stream",
          "text": [
            "\n",
            "[notice] A new release of pip available: 22.3.1 -> 25.2\n",
            "[notice] To update, run: python.exe -m pip install --upgrade pip\n"
          ]
        },
        {
          "name": "stdout",
          "output_type": "stream",
          "text": [
            "\n",
            "Collecting cvlib\n",
            "  Using cached cvlib-0.2.7.tar.gz (13.1 MB)\n",
            "  Preparing metadata (setup.py): started\n",
            "  Preparing metadata (setup.py): finished with status 'done'\n",
            "Requirement already satisfied: numpy in c:\\users\\prasanna\\appdata\\roaming\\python\\python310\\site-packages (from cvlib) (2.1.3)\n",
            "Collecting progressbar\n",
            "  Using cached progressbar-2.5.tar.gz (10 kB)\n",
            "  Preparing metadata (setup.py): started\n",
            "  Preparing metadata (setup.py): finished with status 'done'\n",
            "Requirement already satisfied: requests in c:\\users\\prasanna\\appdata\\roaming\\python\\python310\\site-packages (from cvlib) (2.32.4)\n",
            "Requirement already satisfied: pillow in c:\\users\\prasanna\\appdata\\roaming\\python\\python310\\site-packages (from cvlib) (11.3.0)\n",
            "Collecting imageio\n",
            "  Using cached imageio-2.37.0-py3-none-any.whl (315 kB)\n",
            "Collecting imutils\n",
            "  Using cached imutils-0.5.4.tar.gz (17 kB)\n",
            "  Preparing metadata (setup.py): started\n",
            "  Preparing metadata (setup.py): finished with status 'done'\n",
            "Requirement already satisfied: idna<4,>=2.5 in c:\\users\\prasanna\\appdata\\roaming\\python\\python310\\site-packages (from requests->cvlib) (3.10)\n",
            "Requirement already satisfied: charset_normalizer<4,>=2 in c:\\users\\prasanna\\appdata\\roaming\\python\\python310\\site-packages (from requests->cvlib) (3.4.2)\n",
            "Requirement already satisfied: certifi>=2017.4.17 in c:\\users\\prasanna\\appdata\\roaming\\python\\python310\\site-packages (from requests->cvlib) (2025.6.15)\n",
            "Requirement already satisfied: urllib3<3,>=1.21.1 in c:\\users\\prasanna\\appdata\\roaming\\python\\python310\\site-packages (from requests->cvlib) (2.5.0)\n",
            "Building wheels for collected packages: cvlib, imutils, progressbar\n",
            "  Building wheel for cvlib (setup.py): started\n",
            "  Building wheel for cvlib (setup.py): finished with status 'done'\n",
            "  Created wheel for cvlib: filename=cvlib-0.2.7-py3-none-any.whl size=10046379 sha256=1d6845b1055ab5d2ef64c036572390fa4f73e99c1ae6d13baa607451f8ffbcf4\n",
            "  Stored in directory: c:\\users\\prasanna\\appdata\\local\\pip\\cache\\wheels\\2c\\b4\\91\\c6ddd31550a14fec141d21053f4a6fe5729c41aaf991baf2bc\n",
            "  Building wheel for imutils (setup.py): started\n",
            "  Building wheel for imutils (setup.py): finished with status 'done'\n",
            "  Created wheel for imutils: filename=imutils-0.5.4-py3-none-any.whl size=25855 sha256=25d99e78d8ab8579ff82eaf0c43ae8165840b992eb8791fd686802cba5f10e76\n",
            "  Stored in directory: c:\\users\\prasanna\\appdata\\local\\pip\\cache\\wheels\\c2\\02\\32\\f3617a9f68bcc67eda3ebeb4514eba18f62e81ff439428109d\n",
            "  Building wheel for progressbar (setup.py): started\n",
            "  Building wheel for progressbar (setup.py): finished with status 'done'\n",
            "  Created wheel for progressbar: filename=progressbar-2.5-py3-none-any.whl size=12083 sha256=1d6dc28ebbf73d4fd501ecd37ce92dd9bd06d445723e796f2706394bc556ceca\n",
            "  Stored in directory: c:\\users\\prasanna\\appdata\\local\\pip\\cache\\wheels\\87\\80\\e5\\ebb505e651c0099350734492f23bea3f5ad466275f78448b9d\n",
            "Successfully built cvlib imutils progressbar\n",
            "Installing collected packages: progressbar, imutils, imageio, cvlib\n",
            "Successfully installed cvlib-0.2.7 imageio-2.37.0 imutils-0.5.4 progressbar-2.5\n"
          ]
        }
      ],
      "source": [
        "pip install cvlib"
      ]
    },
    {
      "cell_type": "code",
      "execution_count": 2,
      "metadata": {
        "colab": {
          "base_uri": "https://localhost:8080/"
        },
        "id": "7TPZ2i736QgK",
        "outputId": "e2cf7263-c67b-472d-939f-d4e5ab048d88"
      },
      "outputs": [
        {
          "name": "stdout",
          "output_type": "stream",
          "text": [
            "Defaulting to user installation because normal site-packages is not writeable\n",
            "Requirement already satisfied: cvlib in c:\\users\\prasanna\\appdata\\roaming\\python\\python310\\site-packages (0.2.7)\n"
          ]
        },
        {
          "name": "stderr",
          "output_type": "stream",
          "text": [
            "\n",
            "[notice] A new release of pip available: 22.3.1 -> 25.2\n",
            "[notice] To update, run: python.exe -m pip install --upgrade pip\n"
          ]
        },
        {
          "name": "stdout",
          "output_type": "stream",
          "text": [
            "Defaulting to user installation because normal site-packages is not writeable\n",
            "Collecting progressbar2\n",
            "  Downloading progressbar2-4.5.0-py3-none-any.whl (57 kB)\n",
            "     -------------------------------------- 57.1/57.1 kB 426.3 kB/s eta 0:00:00\n",
            "Collecting python-utils>=3.8.1\n",
            "  Downloading python_utils-3.9.1-py2.py3-none-any.whl (32 kB)\n",
            "Requirement already satisfied: typing_extensions>3.10.0.2 in c:\\users\\prasanna\\appdata\\roaming\\python\\python310\\site-packages (from python-utils>=3.8.1->progressbar2) (4.14.0)\n",
            "Installing collected packages: python-utils, progressbar2\n",
            "Successfully installed progressbar2-4.5.0 python-utils-3.9.1\n"
          ]
        },
        {
          "name": "stderr",
          "output_type": "stream",
          "text": [
            "\n",
            "[notice] A new release of pip available: 22.3.1 -> 25.2\n",
            "[notice] To update, run: python.exe -m pip install --upgrade pip\n",
            "'wget' is not recognized as an internal or external command,\n",
            "operable program or batch file.\n",
            "'wget' is not recognized as an internal or external command,\n",
            "operable program or batch file.\n"
          ]
        }
      ],
      "source": [
        "!pip install cvlib --no-deps\n",
        "!pip install progressbar2\n",
        "!wget -P /root/.cvlib/object_detection/ https://github.com/arunponnusamy/object-detection-opencv/raw/master/yolov3-tiny.cfg\n",
        "!wget -P /root/.cvlib/object_detection/ https://pjreddie.com/media/files/yolov3-tiny.weights\n"
      ]
    },
    {
      "cell_type": "code",
      "execution_count": 1,
      "metadata": {
        "colab": {
          "base_uri": "https://localhost:8080/",
          "height": 406
        },
        "id": "Dvo_8NG_5r2s",
        "outputId": "b45dec32-c9f8-4549-cbec-ba8088ed61ef"
      },
      "outputs": [
        {
          "name": "stdout",
          "output_type": "stream",
          "text": [
            "What is your input type? Press 1 for Video, Press 2 for Image, Press 3 for Live Webcam\n",
            "Press 'q' to exit.\n"
          ]
        }
      ],
      "source": [
        "import cv2\n",
        "import os\n",
        "import numpy as np\n",
        "import cvlib as cv\n",
        "from cvlib.object_detection import draw_bbox\n",
        "from PIL import Image\n",
        "import matplotlib.pyplot as plt\n",
        "import pickle\n",
        "\n",
        "# Prompt user for input type\n",
        "print(\"What is your input type? Press 1 for Video, Press 2 for Image, Press 3 for Live Webcam\")\n",
        "a = int(input(\"Enter your choice: \"))  # Take user input\n",
        "\n",
        "if a == 1:\n",
        "    # Path to the video file\n",
        "    video_path = input(\"Enter the full path of the video file: \")  # Dynamic video file path\n",
        "    video_capture = cv2.VideoCapture(video_path)  # Open the video file\n",
        "\n",
        "    if not video_capture.isOpened():\n",
        "        print(\"Error: Could not open video.\")\n",
        "        exit()\n",
        "\n",
        "    print(\"Press 'q' to exit.\")\n",
        "\n",
        "    while video_capture.isOpened():\n",
        "        ret, frame = video_capture.read()\n",
        "\n",
        "        if not ret:\n",
        "            print(\"End of video or unable to capture video frame.\")\n",
        "            break\n",
        "\n",
        "        # Perform object detection\n",
        "        bbox, label, conf = cv.detect_common_objects(frame, model='yolov3-tiny')\n",
        "\n",
        "        # Draw bounding boxes on the frame\n",
        "        output_frame = draw_bbox(frame, bbox, label, conf)\n",
        "\n",
        "        # Display the processed video\n",
        "        cv2.imshow(\"Object Detection on Video\", output_frame)\n",
        "\n",
        "        # Break the loop if 'q' is pressed\n",
        "        if cv2.waitKey(1) & 0xFF == ord('q'):\n",
        "            break\n",
        "\n",
        "    # Release resources\n",
        "    video_capture.release()\n",
        "    cv2.destroyAllWindows()\n",
        "\n",
        "elif a == 2:\n",
        "    # Prompt for dynamic image path\n",
        "    image_path = input(\"Enter the full path of the image file: \")\n",
        "\n",
        "    try:\n",
        "        # Open and process the image\n",
        "        img = Image.open(image_path)\n",
        "        img = np.array(img)\n",
        "\n",
        "        bbox, label, conf = cv.detect_common_objects(img, model='yolov3-tiny')\n",
        "\n",
        "        # Draw bounding boxes on the image\n",
        "        output_image = draw_bbox(img, bbox, label, conf)\n",
        "\n",
        "        # Save detection results using pickle\n",
        "        pickle_file_path = 'object_detection_results.pkl'\n",
        "        results = {'bbox': bbox, 'label': label, 'conf': conf}\n",
        "\n",
        "        with open(pickle_file_path, 'wb') as f:\n",
        "            pickle.dump(results, f)\n",
        "\n",
        "        print(f\"Object detection results saved to {pickle_file_path}.\")\n",
        "\n",
        "        # Display the image\n",
        "        plt.imshow(cv2.cvtColor(output_image, cv2.COLOR_BGR2BGRA))\n",
        "        plt.axis('off')\n",
        "        plt.show()\n",
        "\n",
        "    except FileNotFoundError:\n",
        "        print(\"Error: The specified image file does not exist.\")\n",
        "    except Exception as e:\n",
        "        print(f\"An unexpected error occurred: {e}\")\n",
        "\n",
        "elif a == 3:\n",
        "    # Open the webcam\n",
        "    video_capture = cv2.VideoCapture(0)  # 0 is the default camera index\n",
        "\n",
        "    if not video_capture.isOpened():\n",
        "        print(\"Error: Could not open webcam.\")\n",
        "        exit()\n",
        "\n",
        "    print(\"Press 'q' to exit.\")\n",
        "\n",
        "    while video_capture.isOpened():\n",
        "        ret, frame = video_capture.read()\n",
        "\n",
        "        if not ret:\n",
        "            print(\"Error: Unable to capture video frame.\")\n",
        "            break\n",
        "\n",
        "        # Perform object detection\n",
        "        bbox, label, conf = cv.detect_common_objects(frame, model='yolov3-tiny')\n",
        "\n",
        "        # Draw bounding boxes on the frame\n",
        "        output_frame = draw_bbox(frame, bbox, label, conf)\n",
        "\n",
        "        # Display the processed video\n",
        "        cv2.imshow(\"Live Object Detection\", output_frame)\n",
        "\n",
        "        # Break the loop if 'q' is pressed\n",
        "        if cv2.waitKey(1) & 0xFF == ord('q'):\n",
        "            break\n",
        "\n",
        "    # Release resources\n",
        "    video_capture.release()\n",
        "    cv2.destroyAllWindows()\n",
        "\n",
        "else:\n",
        "    print(\"Invalid input! Please press 1 for Video, 2 for Image, or 3 for Live Webcam.\")\n"
      ]
    }
  ],
  "metadata": {
    "accelerator": "GPU",
    "colab": {
      "gpuType": "T4",
      "provenance": []
    },
    "kernelspec": {
      "display_name": "Python 3",
      "language": "python",
      "name": "python3"
    },
    "language_info": {
      "codemirror_mode": {
        "name": "ipython",
        "version": 3
      },
      "file_extension": ".py",
      "mimetype": "text/x-python",
      "name": "python",
      "nbconvert_exporter": "python",
      "pygments_lexer": "ipython3",
      "version": "3.10.9"
    }
  },
  "nbformat": 4,
  "nbformat_minor": 0
}
